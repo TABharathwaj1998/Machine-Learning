{
 "cells": [
  {
   "cell_type": "code",
   "execution_count": 1,
   "id": "d306f072",
   "metadata": {},
   "outputs": [
    {
     "name": "stdout",
     "output_type": "stream",
     "text": [
      "     Age Sex      BP Cholesterol  Na_to_K   Drug\n",
      "0     23   F    HIGH        HIGH   25.355  drugY\n",
      "1     47   M     LOW        HIGH   13.093  drugC\n",
      "2     47   M     LOW        HIGH   10.114  drugC\n",
      "3     28   F  NORMAL        HIGH    7.798  drugX\n",
      "4     61   F     LOW        HIGH   18.043  drugY\n",
      "5     22   F  NORMAL        HIGH    8.607  drugX\n",
      "6     49   F  NORMAL        HIGH   16.275  drugY\n",
      "7     41   M     LOW        HIGH   11.037  drugC\n",
      "8     60   M  NORMAL        HIGH   15.171  drugY\n",
      "9     43   M     LOW      NORMAL   19.368  drugY\n",
      "10    47   F     LOW        HIGH   11.767  drugC\n",
      "11    34   F    HIGH      NORMAL   19.199  drugY\n",
      "12    43   M     LOW        HIGH   15.376  drugY\n",
      "13    74   F     LOW        HIGH   20.942  drugY\n",
      "14    50   F  NORMAL        HIGH   12.703  drugX\n",
      "15    16   F    HIGH      NORMAL   15.516  drugY\n",
      "16    69   M     LOW      NORMAL   11.455  drugX\n",
      "17    43   M    HIGH        HIGH   13.972  drugA\n",
      "18    23   M     LOW        HIGH    7.298  drugC\n",
      "19    32   F    HIGH      NORMAL   25.974  drugY\n",
      "20    57   M     LOW      NORMAL   19.128  drugY\n",
      "21    63   M  NORMAL        HIGH   25.917  drugY\n",
      "22    47   M     LOW      NORMAL   30.568  drugY\n",
      "23    48   F     LOW        HIGH   15.036  drugY\n",
      "24    33   F     LOW        HIGH   33.486  drugY\n",
      "25    28   F    HIGH      NORMAL   18.809  drugY\n",
      "26    31   M    HIGH        HIGH   30.366  drugY\n",
      "27    49   F  NORMAL      NORMAL    9.381  drugX\n",
      "28    39   F     LOW      NORMAL   22.697  drugY\n",
      "29    45   M     LOW        HIGH   17.951  drugY\n",
      "30    18   F  NORMAL      NORMAL    8.750  drugX\n",
      "31    74   M    HIGH        HIGH    9.567  drugB\n",
      "32    49   M     LOW      NORMAL   11.014  drugX\n",
      "33    65   F    HIGH      NORMAL   31.876  drugY\n",
      "34    53   M  NORMAL        HIGH   14.133  drugX\n",
      "35    46   M  NORMAL      NORMAL    7.285  drugX\n",
      "36    32   M    HIGH      NORMAL    9.445  drugA\n",
      "37    39   M     LOW      NORMAL   13.938  drugX\n",
      "38    39   F  NORMAL      NORMAL    9.709  drugX\n",
      "39    15   M  NORMAL        HIGH    9.084  drugX\n",
      "40    73   F  NORMAL        HIGH   19.221  drugY\n",
      "41    58   F    HIGH      NORMAL   14.239  drugB\n",
      "42    50   M  NORMAL      NORMAL   15.790  drugY\n",
      "43    23   M  NORMAL        HIGH   12.260  drugX\n",
      "44    50   F  NORMAL      NORMAL   12.295  drugX\n",
      "45    66   F  NORMAL      NORMAL    8.107  drugX\n",
      "46    37   F    HIGH        HIGH   13.091  drugA\n",
      "47    68   M     LOW        HIGH   10.291  drugC\n",
      "48    23   M  NORMAL        HIGH   31.686  drugY\n",
      "49    28   F     LOW        HIGH   19.796  drugY\n",
      "50    58   F    HIGH        HIGH   19.416  drugY\n",
      "51    67   M  NORMAL      NORMAL   10.898  drugX\n",
      "52    62   M     LOW      NORMAL   27.183  drugY\n",
      "53    24   F    HIGH      NORMAL   18.457  drugY\n",
      "54    68   F    HIGH      NORMAL   10.189  drugB\n",
      "55    26   F     LOW        HIGH   14.160  drugC\n",
      "56    65   M    HIGH      NORMAL   11.340  drugB\n",
      "57    40   M    HIGH        HIGH   27.826  drugY\n",
      "58    60   M  NORMAL      NORMAL   10.091  drugX\n",
      "59    34   M    HIGH        HIGH   18.703  drugY\n",
      "60    38   F     LOW      NORMAL   29.875  drugY\n",
      "61    24   M    HIGH      NORMAL    9.475  drugA\n",
      "62    67   M     LOW      NORMAL   20.693  drugY\n",
      "63    45   M     LOW      NORMAL    8.370  drugX\n",
      "64    60   F    HIGH        HIGH   13.303  drugB\n",
      "65    68   F  NORMAL      NORMAL   27.050  drugY\n",
      "66    29   M    HIGH        HIGH   12.856  drugA\n",
      "67    17   M  NORMAL      NORMAL   10.832  drugX\n",
      "68    54   M  NORMAL        HIGH   24.658  drugY\n",
      "69    18   F    HIGH      NORMAL   24.276  drugY\n",
      "70    70   M    HIGH        HIGH   13.967  drugB\n",
      "71    28   F  NORMAL        HIGH   19.675  drugY\n",
      "72    24   F  NORMAL        HIGH   10.605  drugX\n",
      "73    41   F  NORMAL      NORMAL   22.905  drugY\n",
      "74    31   M    HIGH      NORMAL   17.069  drugY\n",
      "75    26   M     LOW      NORMAL   20.909  drugY\n",
      "76    36   F    HIGH        HIGH   11.198  drugA\n",
      "77    26   F    HIGH      NORMAL   19.161  drugY\n",
      "78    19   F    HIGH        HIGH   13.313  drugA\n",
      "79    32   F     LOW      NORMAL   10.840  drugX\n",
      "80    60   M    HIGH        HIGH   13.934  drugB\n",
      "81    64   M  NORMAL        HIGH    7.761  drugX\n",
      "82    32   F     LOW        HIGH    9.712  drugC\n",
      "83    38   F    HIGH      NORMAL   11.326  drugA\n",
      "84    47   F     LOW        HIGH   10.067  drugC\n",
      "85    59   M    HIGH        HIGH   13.935  drugB\n",
      "86    51   F  NORMAL        HIGH   13.597  drugX\n",
      "87    69   M     LOW        HIGH   15.478  drugY\n",
      "88    37   F    HIGH      NORMAL   23.091  drugY\n",
      "89    50   F  NORMAL      NORMAL   17.211  drugY\n",
      "90    62   M  NORMAL        HIGH   16.594  drugY\n",
      "91    41   M    HIGH      NORMAL   15.156  drugY\n",
      "92    29   F    HIGH        HIGH   29.450  drugY\n",
      "93    42   F     LOW      NORMAL   29.271  drugY\n",
      "94    56   M     LOW        HIGH   15.015  drugY\n",
      "95    36   M     LOW      NORMAL   11.424  drugX\n",
      "96    58   F     LOW        HIGH   38.247  drugY\n",
      "97    56   F    HIGH        HIGH   25.395  drugY\n",
      "98    20   M    HIGH      NORMAL   35.639  drugY\n",
      "99    15   F    HIGH      NORMAL   16.725  drugY\n",
      "100   31   M    HIGH      NORMAL   11.871  drugA\n",
      "101   45   F    HIGH        HIGH   12.854  drugA\n",
      "102   28   F     LOW        HIGH   13.127  drugC\n",
      "103   56   M  NORMAL        HIGH    8.966  drugX\n",
      "104   22   M    HIGH      NORMAL   28.294  drugY\n",
      "105   37   M     LOW      NORMAL    8.968  drugX\n",
      "106   22   M  NORMAL        HIGH   11.953  drugX\n",
      "107   42   M     LOW        HIGH   20.013  drugY\n",
      "108   72   M    HIGH      NORMAL    9.677  drugB\n",
      "109   23   M  NORMAL        HIGH   16.850  drugY\n",
      "110   50   M    HIGH        HIGH    7.490  drugA\n",
      "111   47   F  NORMAL      NORMAL    6.683  drugX\n",
      "112   35   M     LOW      NORMAL    9.170  drugX\n",
      "113   65   F     LOW      NORMAL   13.769  drugX\n",
      "114   20   F  NORMAL      NORMAL    9.281  drugX\n",
      "115   51   M    HIGH        HIGH   18.295  drugY\n",
      "116   67   M  NORMAL      NORMAL    9.514  drugX\n",
      "117   40   F  NORMAL        HIGH   10.103  drugX\n",
      "118   32   F    HIGH      NORMAL   10.292  drugA\n",
      "119   61   F    HIGH        HIGH   25.475  drugY\n",
      "120   28   M  NORMAL        HIGH   27.064  drugY\n",
      "121   15   M    HIGH      NORMAL   17.206  drugY\n",
      "122   34   M  NORMAL        HIGH   22.456  drugY\n",
      "123   36   F  NORMAL        HIGH   16.753  drugY\n",
      "124   53   F    HIGH      NORMAL   12.495  drugB\n",
      "125   19   F    HIGH      NORMAL   25.969  drugY\n",
      "126   66   M    HIGH        HIGH   16.347  drugY\n",
      "127   35   M  NORMAL      NORMAL    7.845  drugX\n",
      "128   47   M     LOW      NORMAL   33.542  drugY\n",
      "129   32   F  NORMAL        HIGH    7.477  drugX\n",
      "130   70   F  NORMAL        HIGH   20.489  drugY\n",
      "131   52   M     LOW      NORMAL   32.922  drugY\n",
      "132   49   M     LOW      NORMAL   13.598  drugX\n",
      "133   24   M  NORMAL        HIGH   25.786  drugY\n",
      "134   42   F    HIGH        HIGH   21.036  drugY\n",
      "135   74   M     LOW      NORMAL   11.939  drugX\n",
      "136   55   F    HIGH        HIGH   10.977  drugB\n",
      "137   35   F    HIGH        HIGH   12.894  drugA\n",
      "138   51   M    HIGH      NORMAL   11.343  drugB\n",
      "139   69   F  NORMAL        HIGH   10.065  drugX\n",
      "140   49   M    HIGH      NORMAL    6.269  drugA\n",
      "141   64   F     LOW      NORMAL   25.741  drugY\n",
      "142   60   M    HIGH      NORMAL    8.621  drugB\n",
      "143   74   M    HIGH      NORMAL   15.436  drugY\n",
      "144   39   M    HIGH        HIGH    9.664  drugA\n",
      "145   61   M  NORMAL        HIGH    9.443  drugX\n",
      "146   37   F     LOW      NORMAL   12.006  drugX\n",
      "147   26   F    HIGH      NORMAL   12.307  drugA\n",
      "148   61   F     LOW      NORMAL    7.340  drugX\n",
      "149   22   M     LOW        HIGH    8.151  drugC\n",
      "150   49   M    HIGH      NORMAL    8.700  drugA\n",
      "151   68   M    HIGH        HIGH   11.009  drugB\n",
      "152   55   M  NORMAL      NORMAL    7.261  drugX\n",
      "153   72   F     LOW      NORMAL   14.642  drugX\n",
      "154   37   M     LOW      NORMAL   16.724  drugY\n",
      "155   49   M     LOW        HIGH   10.537  drugC\n",
      "156   31   M    HIGH      NORMAL   11.227  drugA\n",
      "157   53   M     LOW        HIGH   22.963  drugY\n",
      "158   59   F     LOW        HIGH   10.444  drugC\n",
      "159   34   F     LOW      NORMAL   12.923  drugX\n",
      "160   30   F  NORMAL        HIGH   10.443  drugX\n",
      "161   57   F    HIGH      NORMAL    9.945  drugB\n",
      "162   43   M  NORMAL      NORMAL   12.859  drugX\n",
      "163   21   F    HIGH      NORMAL   28.632  drugY\n",
      "164   16   M    HIGH      NORMAL   19.007  drugY\n",
      "165   38   M     LOW        HIGH   18.295  drugY\n",
      "166   58   F     LOW        HIGH   26.645  drugY\n",
      "167   57   F  NORMAL        HIGH   14.216  drugX\n",
      "168   51   F     LOW      NORMAL   23.003  drugY\n",
      "169   20   F    HIGH        HIGH   11.262  drugA\n",
      "170   28   F  NORMAL        HIGH   12.879  drugX\n",
      "171   45   M     LOW      NORMAL   10.017  drugX\n",
      "172   39   F  NORMAL      NORMAL   17.225  drugY\n",
      "173   41   F     LOW      NORMAL   18.739  drugY\n",
      "174   42   M    HIGH      NORMAL   12.766  drugA\n",
      "175   73   F    HIGH        HIGH   18.348  drugY\n",
      "176   48   M    HIGH      NORMAL   10.446  drugA\n",
      "177   25   M  NORMAL        HIGH   19.011  drugY\n",
      "178   39   M  NORMAL        HIGH   15.969  drugY\n",
      "179   67   F  NORMAL        HIGH   15.891  drugY\n",
      "180   22   F    HIGH      NORMAL   22.818  drugY\n",
      "181   59   F  NORMAL        HIGH   13.884  drugX\n",
      "182   20   F     LOW      NORMAL   11.686  drugX\n",
      "183   36   F    HIGH      NORMAL   15.490  drugY\n",
      "184   18   F    HIGH        HIGH   37.188  drugY\n",
      "185   57   F  NORMAL      NORMAL   25.893  drugY\n",
      "186   70   M    HIGH        HIGH    9.849  drugB\n",
      "187   47   M    HIGH        HIGH   10.403  drugA\n",
      "188   65   M    HIGH      NORMAL   34.997  drugY\n",
      "189   64   M    HIGH      NORMAL   20.932  drugY\n",
      "190   58   M    HIGH        HIGH   18.991  drugY\n",
      "191   23   M    HIGH        HIGH    8.011  drugA\n",
      "192   72   M     LOW        HIGH   16.310  drugY\n",
      "193   72   M     LOW        HIGH    6.769  drugC\n",
      "194   46   F    HIGH        HIGH   34.686  drugY\n",
      "195   56   F     LOW        HIGH   11.567  drugC\n",
      "196   16   M     LOW        HIGH   12.006  drugC\n",
      "197   52   M  NORMAL        HIGH    9.894  drugX\n",
      "198   23   M  NORMAL      NORMAL   14.020  drugX\n",
      "199   40   F     LOW      NORMAL   11.349  drugX\n"
     ]
    }
   ],
   "source": [
    "'''Task 1 (Import csv file containing Patient's health condition and the specified medicine to be consumed)'''\n",
    "import pandas as pd\n",
    "data = pd.read_csv(\"C:/Users/BHARATHWAJ T A/Desktop/AIDI Durham/20F/AIDI1002/Assignments/drug200.csv\")\n",
    "print(data.to_string())"
   ]
  },
  {
   "cell_type": "code",
   "execution_count": 2,
   "id": "ff21128c",
   "metadata": {},
   "outputs": [
    {
     "data": {
      "application/vnd.jupyter.widget-view+json": {
       "model_id": "0acae03f84a84f26a2693d61aad8d7c6",
       "version_major": 2,
       "version_minor": 0
      },
      "text/plain": [
       "                                             |                                             | [  0%]   00:00 ->…"
      ]
     },
     "metadata": {},
     "output_type": "display_data"
    },
    {
     "name": "stdout",
     "output_type": "stream",
     "text": [
      "Report SWEETVIZ_REPORT.html was generated! NOTEBOOK/COLAB USERS: the web browser MAY not pop up, regardless, the report IS saved in your notebook/colab files.\n"
     ]
    }
   ],
   "source": [
    "'''Task 2 (Create an Exploratory Data Analysis using Sweetviz library)'''\n",
    "import sweetviz as sv\n",
    "dataReport=sv.analyze(data)\n",
    "dataReport.show_html()"
   ]
  },
  {
   "cell_type": "code",
   "execution_count": 3,
   "id": "45b3d5dc",
   "metadata": {},
   "outputs": [
    {
     "name": "stdout",
     "output_type": "stream",
     "text": [
      "     Age Sex      BP Cholesterol  Na_to_K\n",
      "0     23   F    HIGH        HIGH   25.355\n",
      "1     47   M     LOW        HIGH   13.093\n",
      "2     47   M     LOW        HIGH   10.114\n",
      "3     28   F  NORMAL        HIGH    7.798\n",
      "4     61   F     LOW        HIGH   18.043\n",
      "..   ...  ..     ...         ...      ...\n",
      "195   56   F     LOW        HIGH   11.567\n",
      "196   16   M     LOW        HIGH   12.006\n",
      "197   52   M  NORMAL        HIGH    9.894\n",
      "198   23   M  NORMAL      NORMAL   14.020\n",
      "199   40   F     LOW      NORMAL   11.349\n",
      "\n",
      "[200 rows x 5 columns]\n",
      "     Age Sex BP Cholesterol  Na_to_K\n",
      "0     23   2  3           3   25.355\n",
      "1     47   1  1           3   13.093\n",
      "2     47   1  1           3   10.114\n",
      "3     28   2  2           3    7.798\n",
      "4     61   2  1           3   18.043\n",
      "..   ...  .. ..         ...      ...\n",
      "195   56   2  1           3   11.567\n",
      "196   16   1  1           3   12.006\n",
      "197   52   1  2           3    9.894\n",
      "198   23   1  2           2   14.020\n",
      "199   40   2  1           2   11.349\n",
      "\n",
      "[200 rows x 5 columns]\n"
     ]
    }
   ],
   "source": [
    "'''Task 3 (Create two attributes X and Y containing the dataset for prediction purpose)'''\n",
    "X=data.drop(columns=[\"Drug\"])  #Removes columm \"Drug\" from dataset and stores remaining columns in X attribute    \n",
    "y=data[\"Drug\"]                 #Stores \"Drug\" column only in y attribute             \n",
    "\n",
    "print(X)\n",
    "\n",
    "for index in range(len(data)):         #This for loop is used for converting string values present in columns \n",
    "                                       #such as BP, Sex, and Cholesterol.                                    \n",
    "    if \"F\" in X[\"Sex\"].loc[index]:    \n",
    "        X.loc[index,\"Sex\"]=2           #For instance it changes \"F\" for Female to value 2\n",
    "    else:\n",
    "        X.loc[index,\"Sex\"]=1           #If \"M\" for Male, then value is 1\n",
    "\n",
    "#Likewise, the same step follows for other two columns \"BP\" and \"Cholesterol\" also where HIGH-3, NORMAL-2 and LOW-1\n",
    "\n",
    "    if \"HIGH\" in X[\"BP\"].loc[index]:\n",
    "        X.loc[index,\"BP\"]=3\n",
    "    elif \"NORMAL\" in X[\"BP\"].loc[index]:\n",
    "        X.loc[index,\"BP\"]=2\n",
    "    else:\n",
    "        X.loc[index,\"BP\"]=1\n",
    "    \n",
    "    if \"HIGH\" in X[\"Cholesterol\"].loc[index]:\n",
    "        X.loc[index,\"Cholesterol\"]=3\n",
    "    elif \"NORMAL\" in X[\"Cholesterol\"].loc[index]:\n",
    "        X.loc[index,\"Cholesterol\"]=2\n",
    "    else:\n",
    "        X.loc[index,\"Cholesterol\"]=1\n",
    "        \n",
    "print(X)"
   ]
  },
  {
   "cell_type": "code",
   "execution_count": 4,
   "id": "1ac2741c",
   "metadata": {},
   "outputs": [
    {
     "name": "stdout",
     "output_type": "stream",
     "text": [
      "['drugY']\n",
      "['drugC']\n"
     ]
    }
   ],
   "source": [
    "'''Task 4 (Predict the values present in the dataset and determine the drug needed to be used) '''\n",
    "\n",
    "from sklearn.tree import DecisionTreeClassifier\n",
    "Drug = DecisionTreeClassifier()\n",
    "Drug.fit(X,y)           #Trains X and Y attribute using fit function\n",
    "\n",
    "drugPrediction1 = Drug.predict([[23, 2, 3, 3,25.355]]) #Predicts output   \n",
    "drugPrediction2 = Drug.predict([[47,1,1,3,13.093]])\n",
    "print(drugPrediction1)\n",
    "print(drugPrediction2)"
   ]
  },
  {
   "cell_type": "code",
   "execution_count": 5,
   "id": "810b267b",
   "metadata": {},
   "outputs": [
    {
     "data": {
      "text/plain": [
       "1.0"
      ]
     },
     "execution_count": 5,
     "metadata": {},
     "output_type": "execute_result"
    }
   ],
   "source": [
    "Drug.score(X,y)  #But the accuracy score shows 100%. This results in overfitting. "
   ]
  },
  {
   "cell_type": "code",
   "execution_count": 6,
   "id": "e72200d3",
   "metadata": {},
   "outputs": [],
   "source": [
    "'''Task 5 (Splits the dataset into three parts and determines the underfitting output)'''\n",
    "from sklearn.model_selection import train_test_split\n",
    "(X_train, X_vt, y_train, y_vt) = train_test_split(X, y, test_size=0.3, random_state=0) #X_vt and y_vt takes about 30% of values\n",
    "(X_validation, X_test, y_validation, y_test) = train_test_split(X_vt, y_vt, test_size=0.5, random_state=0) \n",
    "#It is again split into two where 15% of data for validation and remaining 15% for testing"
   ]
  },
  {
   "cell_type": "code",
   "execution_count": 7,
   "id": "ee972f1b",
   "metadata": {},
   "outputs": [
    {
     "data": {
      "text/plain": [
       "(140, 5)"
      ]
     },
     "execution_count": 7,
     "metadata": {},
     "output_type": "execute_result"
    }
   ],
   "source": [
    "X_train.shape"
   ]
  },
  {
   "cell_type": "code",
   "execution_count": 8,
   "id": "02ca0078",
   "metadata": {},
   "outputs": [
    {
     "data": {
      "text/plain": [
       "(30, 5)"
      ]
     },
     "execution_count": 8,
     "metadata": {},
     "output_type": "execute_result"
    }
   ],
   "source": [
    "X_validation.shape"
   ]
  },
  {
   "cell_type": "code",
   "execution_count": 9,
   "id": "cfbd2962",
   "metadata": {},
   "outputs": [
    {
     "data": {
      "text/plain": [
       "(30, 5)"
      ]
     },
     "execution_count": 9,
     "metadata": {},
     "output_type": "execute_result"
    }
   ],
   "source": [
    "X_test.shape"
   ]
  },
  {
   "cell_type": "code",
   "execution_count": 10,
   "id": "01e173f7",
   "metadata": {},
   "outputs": [
    {
     "data": {
      "text/plain": [
       "DecisionTreeClassifier(criterion='entropy', max_depth=3, max_features=4,\n",
       "                       min_samples_leaf=2, min_samples_split=7,\n",
       "                       splitter='random')"
      ]
     },
     "execution_count": 10,
     "metadata": {},
     "output_type": "execute_result"
    }
   ],
   "source": [
    "Drug1 = DecisionTreeClassifier(criterion = \"entropy\", splitter = \"random\", max_depth = 3,  min_samples_split = 7,\n",
    "                              min_samples_leaf = 2, max_features = 4)    \n",
    "#Attributes added where max_depth is less\n",
    "#Decreasing depth, increasing more split and more final leaf node would help the model predict correctly\n",
    "Drug1.fit(X_train, y_train)   #Trains 70% of dataset"
   ]
  },
  {
   "cell_type": "code",
   "execution_count": 11,
   "id": "c9f89986",
   "metadata": {},
   "outputs": [
    {
     "data": {
      "text/plain": [
       "0.6857142857142857"
      ]
     },
     "execution_count": 11,
     "metadata": {},
     "output_type": "execute_result"
    }
   ],
   "source": [
    "Drug1.score(X_train, y_train)"
   ]
  },
  {
   "cell_type": "code",
   "execution_count": 12,
   "id": "3ea70d64",
   "metadata": {},
   "outputs": [
    {
     "data": {
      "text/plain": [
       "0.6"
      ]
     },
     "execution_count": 12,
     "metadata": {},
     "output_type": "execute_result"
    }
   ],
   "source": [
    "Drug1.score(X_validation, y_validation)"
   ]
  },
  {
   "cell_type": "code",
   "execution_count": 13,
   "id": "72193953",
   "metadata": {},
   "outputs": [
    {
     "data": {
      "text/plain": [
       "0.5333333333333333"
      ]
     },
     "execution_count": 13,
     "metadata": {},
     "output_type": "execute_result"
    }
   ],
   "source": [
    "Drug1.score(X_test, y_test)"
   ]
  },
  {
   "cell_type": "code",
   "execution_count": 14,
   "id": "8924f2c3",
   "metadata": {},
   "outputs": [
    {
     "name": "stdout",
     "output_type": "stream",
     "text": [
      "['drugY']\n",
      "['drugC']\n"
     ]
    }
   ],
   "source": [
    "#The above scores of each- Training, Validation and Testing shows that it predicts properly. The values may change \n",
    "\n",
    "drugPrediction3 = Drug1.predict([[23, 2, 3, 3,25.355]])    #The same values for prediction\n",
    "drugPrediction4 = Drug1.predict([[47,1,1,3,13.093]])\n",
    "print(drugPrediction3)                                    #But output may vary\n",
    "print(drugPrediction4)               "
   ]
  }
 ],
 "metadata": {
  "kernelspec": {
   "display_name": "Python 3 (ipykernel)",
   "language": "python",
   "name": "python3"
  },
  "language_info": {
   "codemirror_mode": {
    "name": "ipython",
    "version": 3
   },
   "file_extension": ".py",
   "mimetype": "text/x-python",
   "name": "python",
   "nbconvert_exporter": "python",
   "pygments_lexer": "ipython3",
   "version": "3.8.8"
  }
 },
 "nbformat": 4,
 "nbformat_minor": 5
}
